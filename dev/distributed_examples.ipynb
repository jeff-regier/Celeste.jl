{
 "cells": [
  {
   "cell_type": "markdown",
   "metadata": {},
   "source": [
    "This worksheet contains some examples of low-level Julia interprocess communication with an emphasis on when memory is allocated and when network communication happens.  This was done in version 0.3.11."
   ]
  },
  {
   "cell_type": "code",
   "execution_count": 1,
   "metadata": {
    "collapsed": false
   },
   "outputs": [
    {
     "name": "stdout",
     "output_type": "stream",
     "text": [
      "  PID %MEM %CPU\n",
      "16809  1.1  0.1\n",
      "23778 10.4  115\n",
      "nothing\n"
     ]
    }
   ],
   "source": [
    "# Set up some convenient functions.\n",
    "\n",
    "# Print the memory usage for julia processes.\n",
    "function memstats()\n",
    "  println(run(`ps -C julia -o pid,%mem,%cpu`))\n",
    "end\n",
    "\n",
    "\n",
    "# See what is defined on each worker.\n",
    "function remote_vars()\n",
    "  for w in workers()\n",
    "    println(remotecall_fetch(w, whos))\n",
    "  end\n",
    "end\n",
    "\n",
    "# This is like @everywhere but only runs on a particular process.\n",
    "macro runat(p, ex)\n",
    "  quote\n",
    "    remotecall_fetch($p, ()->(eval(Main,$(Expr(:quote,ex))); nothing))\n",
    "  end\n",
    "end\n",
    "\n",
    "# This is like @everywhere but for remote workers only.\n",
    "macro everywhereelse(ex)\n",
    "  quote\n",
    "    @sync begin\n",
    "      for w in workers()\n",
    "        @async remotecall_fetch(w, ()->(eval(Main,$(Expr(:quote,ex))); nothing))\n",
    "      end\n",
    "    end\n",
    "  end\n",
    "end\n",
    "\n",
    "\n",
    "# Define some objects to pass around that are big enough to show up in memstats().\n",
    "mat = rand(int(1e4), int(1e4));\n",
    "mat2 = rand(int(1e4), int(1e4));\n",
    "\n",
    "# Remove remote workers to start.\n",
    "for w in workers()\n",
    "    if w != myid()\n",
    "        rmprocs(w)\n",
    "    end\n",
    "end\n",
    "\n",
    "memstats()"
   ]
  },
  {
   "cell_type": "code",
   "execution_count": 2,
   "metadata": {
    "collapsed": false
   },
   "outputs": [
    {
     "name": "stdout",
     "output_type": "stream",
     "text": [
      "[1]\n",
      "[2,3]\n",
      "  PID %MEM %CPU\n",
      "16809  1.1  0.1\n",
      "23778 10.4 84.2\n",
      "23790  0.5  174\n",
      "23791  0.4  174\n",
      "nothing\n",
      "[2,3]\n",
      "\tFrom worker 3:\t[3,2]\n",
      "\tFrom worker 2:\t[2,3]\n"
     ]
    }
   ],
   "source": [
    "# Counterintuitively, `workers()` at first contains `[1]` but after adding workers does not.\n",
    "println(workers())\n",
    "addprocs(2)\n",
    "println(workers())\n",
    "memstats()\n",
    "\n",
    "# Also: workers() does not necessarily return the same order everywhere.\n",
    "@everywhere println(workers())"
   ]
  },
  {
   "cell_type": "code",
   "execution_count": 3,
   "metadata": {
    "collapsed": false
   },
   "outputs": [
    {
     "name": "stdout",
     "output_type": "stream",
     "text": [
      "RemoteRef(1,1,10)\n",
      "\tFrom worker 3:\taardvark\n",
      "\tFrom worker 2:\taardvark\n",
      "RemoteRef(2,1,15)\n",
      "sandwich\n"
     ]
    }
   ],
   "source": [
    "# A RemoteRef object has a where and whence field, but I'm not sure if they matter.\n",
    "\n",
    "# A worker where and whence are the same:\n",
    "pet = \"aardvark\"\n",
    "rr = RemoteRef(myid())\n",
    "println(rr)\n",
    "put!(rr, pet)\n",
    "@everywhereelse rr = remotecall_fetch(1, () -> rr)\n",
    "@everywhereelse println(fetch(rr))\n",
    "\n",
    "# This will hang if run.  You cannot put a new object into a RemoteRef which\n",
    "# has already been passed to put!()\n",
    "if false\n",
    "    pet = \"anteater\"\n",
    "    println(\"This will hang:\")\n",
    "    put!(rr, pet)\n",
    "    println(\"...this line will never print.\")\n",
    "end\n",
    "\n",
    "# Worker 3 seems to be able to put! to a RemoteRef that does not involve it at all: \n",
    "rr = RemoteRef(2)\n",
    "println(rr)\n",
    "@runat 3 begin\n",
    "    lunch = \"sandwich\"\n",
    "    rr = remotecall_fetch(1, () -> rr)\n",
    "    put!(rr, lunch)\n",
    "end\n",
    "println(fetch(rr))\n"
   ]
  },
  {
   "cell_type": "code",
   "execution_count": null,
   "metadata": {
    "collapsed": false
   },
   "outputs": [],
   "source": [
    "# Here we consider communicating `mat` to the workers.\n",
    "\n",
    "# First, set up the remote references.\n",
    "memstats()\n",
    "\n",
    "# The RemoteRefs will be used to communicate data from worker 1 to the other workers\n",
    "@everywhere rr = RemoteRef(1)\n",
    "rr_array = [ remotecall_fetch(worker, () -> rr) for worker in workers() ]\n",
    "\n",
    "# Next, put `mat` into each remote reference.\n",
    "for worker_rr in rr_array\n",
    "  put!(worker_rr, mat)\n",
    "end\n",
    "\n",
    "# Remote memory for `mat` has not been allocated yet.\n",
    "memstats()\n"
   ]
  },
  {
   "cell_type": "code",
   "execution_count": null,
   "metadata": {
    "collapsed": false
   },
   "outputs": [],
   "source": [
    "# We can also `fetch()` without allocating memory:\n",
    "for worker_rr in rr_array\n",
    "  println(worker_rr.where, \": \", fetch(worker_rr)[1:5, 1:5])\n",
    "end\n",
    "memstats()"
   ]
  },
  {
   "cell_type": "code",
   "execution_count": null,
   "metadata": {
    "collapsed": false
   },
   "outputs": [],
   "source": [
    "# However, assigning actually allocats memory.\n",
    "# Note that extra memory is also allocated no the master during the copy but is freed by gc().\n",
    "fetch_time1 = time()\n",
    "@everywhereelse mat11 = fetch(rr)[1,1]\n",
    "fetch_time1 = time() - fetch_time1\n",
    "memstats()\n",
    "gc()\n",
    "memstats()\n"
   ]
  },
  {
   "cell_type": "code",
   "execution_count": null,
   "metadata": {
    "collapsed": false
   },
   "outputs": [],
   "source": [
    "# Subsequent fetches take just as much time and allocate just as much memory\n",
    "# before gc().  It is evidently re-fetching each time.\n",
    "fetch_time2 = time()\n",
    "@everywhereelse mat12 = fetch(rr)[1,2]\n",
    "fetch_time2 = time() - fetch_time2\n",
    "memstats()\n",
    "\n",
    "println(\"Fetch time 1: \", fetch_time1)\n",
    "println(\"Fetch time 2: \", fetch_time2)"
   ]
  },
  {
   "cell_type": "code",
   "execution_count": null,
   "metadata": {
    "collapsed": false
   },
   "outputs": [],
   "source": [
    "# Make a local copy of the whole array.  The fetch time is again the same.\n",
    "fetch_time3 = time()\n",
    "@everywhereelse mat_worker = fetch(rr)\n",
    "fetch_time3 = time() - fetch_time3\n",
    "memstats()\n",
    "\n",
    "# Again, the extra memory is freed with garbage collection.\n",
    "@everywhere gc()\n",
    "memstats()\n",
    "println(\"Fetch time 3: \", fetch_time3)"
   ]
  },
  {
   "cell_type": "code",
   "execution_count": null,
   "metadata": {
    "collapsed": false
   },
   "outputs": [],
   "source": [
    "# Confirm that the copy on worker two is in fact a local copy by changing some values.\n",
    "@runat 2 mat_worker[1,1]= -20.\n",
    "@runat 2 rr2 = RemoteRef(2)\n",
    "@runat 2 put!(rr2, mat_worker)\n",
    "rr2 = remotecall_fetch(2, () -> rr2)\n",
    "mat_worker = fetch(rr2);\n",
    "println(\"Value from remote worker: \", mat_worker[1, 1])\n",
    "println(\"Original value: \", mat[1, 1])"
   ]
  },
  {
   "cell_type": "code",
   "execution_count": null,
   "metadata": {
    "collapsed": false
   },
   "outputs": [],
   "source": [
    "# As expected, allocating memory on process 2 only runs up the memory usage on process 2.\n",
    "memstats()\n",
    "@runat 2 num_big_mats = 5\n",
    "@runat 2 big_mats = Array(Any, num_big_mats);\n",
    "@runat 2 for i = 1:num_big_mats\n",
    "            big_mats[i] = rand(int(1e4), int(1e4))\n",
    "          end\n",
    "memstats()"
   ]
  },
  {
   "cell_type": "code",
   "execution_count": null,
   "metadata": {
    "collapsed": false
   },
   "outputs": [],
   "source": [
    "# Subsequent fetches doesn't pick up changes in the immutable objects\n",
    "@runat 2 rr = RemoteRef(1)\n",
    "rr = remotecall_fetch(2, () -> rr)\n",
    "myx = 1.23\n",
    "put!(rr, myx)\n",
    "@runat 2 println(fetch(rr))\n",
    "myx += 1.45\n",
    "@runat 2 println(fetch(rr))\n",
    "\n",
    "# But it does in mutable ones\n",
    "@runat 2 rr = RemoteRef(1)\n",
    "rr = remotecall_fetch(2, () -> rr)\n",
    "myxvec = [ 1.23 ]\n",
    "put!(rr, myxvec)\n",
    "@runat 2 println(fetch(rr))\n",
    "myxvec[1] += 1.45\n",
    "@runat 2 println(fetch(rr))"
   ]
  },
  {
   "cell_type": "code",
   "execution_count": null,
   "metadata": {
    "collapsed": false
   },
   "outputs": [],
   "source": [
    "# Note that @spawnat doesn't work for assignment since it resolves variables on the\n",
    "# calling process.\n",
    "for w in workers()\n",
    "  @spawnat w y = 1.234\n",
    "end\n",
    "println(\"After running @spawnat:\")\n",
    "remote_vars()\n",
    "\n",
    "# This works though\n",
    "@everywhere y = 1.345\n",
    "println(\"After running @everywhere:\")\n",
    "remote_vars()"
   ]
  }
 ],
 "metadata": {
  "kernelspec": {
   "display_name": "Julia 0.3.11",
   "language": "julia",
   "name": "julia-0.3"
  },
  "language_info": {
   "file_extension": ".jl",
   "mimetype": "application/julia",
   "name": "julia",
   "version": "0.3.11"
  }
 },
 "nbformat": 4,
 "nbformat_minor": 0
}
